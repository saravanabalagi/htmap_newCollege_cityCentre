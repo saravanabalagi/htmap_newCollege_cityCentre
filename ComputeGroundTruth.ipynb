{
    "cells": [
        {
            "cell_type": "code",
            "execution_count": 27,
            "metadata": {},
            "outputs": [],
            "source": [
                "import numpy as np\n",
                "import pandas as pd\n",
                "import json\n",
                "import glob\n",
                "import os\n",
                "from tqdm.auto import tqdm\n",
                "from pathlib import Path"
            ]
        },
        {
            "cell_type": "code",
            "execution_count": 28,
            "metadata": {},
            "outputs": [
                {
                    "data": {
                        "text/plain": [
                            "'city_centre'"
                        ]
                    },
                    "execution_count": 28,
                    "metadata": {},
                    "output_type": "execute_result"
                }
            ],
            "source": [
                "dataset_names = ['new_college', 'city_centre']\n",
                "dataset_name = dataset_names[1]\n",
                "dataset_name_pascal = dataset_name.title().replace(\"_\", \"\")\n",
                "dataset_name"
            ]
        },
        {
            "cell_type": "code",
            "execution_count": 29,
            "metadata": {},
            "outputs": [
                {
                    "data": {
                        "text/plain": [
                            "('/home/saravanabalagi/cephshare/compsci/public/new_college/city_centre', True)"
                        ]
                    },
                    "execution_count": 29,
                    "metadata": {},
                    "output_type": "execute_result"
                }
            ],
            "source": [
                "cephshare = Path('~/cephshare').expanduser()\n",
                "gt_dir = f'{cephshare}/compsci/public/new_college/{dataset_name}'\n",
                "gt_dir, os.path.exists(gt_dir)"
            ]
        },
        {
            "cell_type": "markdown",
            "metadata": {},
            "source": [
                "# Load Ground Truth Loops"
            ]
        },
        {
            "cell_type": "code",
            "execution_count": 30,
            "metadata": {},
            "outputs": [
                {
                    "data": {
                        "text/plain": [
                            "('/home/saravanabalagi/cephshare/compsci/public/new_college/city_centre/CityCentreTextFormat.txt',\n",
                            " True)"
                        ]
                    },
                    "execution_count": 30,
                    "metadata": {},
                    "output_type": "execute_result"
                }
            ],
            "source": [
                "gt_loops_matrix_file = f'{gt_dir}/{dataset_name_pascal}TextFormat.txt'\n",
                "gt_loops_matrix_file, os.path.exists(gt_loops_matrix_file)"
            ]
        },
        {
            "cell_type": "code",
            "execution_count": 31,
            "metadata": {},
            "outputs": [
                {
                    "data": {
                        "text/plain": [
                            "((2474, 2474), dtype('bool'))"
                        ]
                    },
                    "execution_count": 31,
                    "metadata": {},
                    "output_type": "execute_result"
                }
            ],
            "source": [
                "loops_matrix = np.genfromtxt(gt_loops_matrix_file, delimiter=',', dtype=int)\n",
                "loops_matrix = np.array(loops_matrix, dtype=bool)\n",
                "loops_matrix.shape, loops_matrix.dtype"
            ]
        },
        {
            "cell_type": "code",
            "execution_count": 32,
            "metadata": {},
            "outputs": [
                {
                    "data": {
                        "text/plain": [
                            "(2474,\n",
                            " [array([], dtype=int64),\n",
                            "  array([], dtype=int64),\n",
                            "  array([], dtype=int64),\n",
                            "  array([], dtype=int64),\n",
                            "  array([], dtype=int64),\n",
                            "  array([], dtype=int64),\n",
                            "  array([], dtype=int64),\n",
                            "  array([], dtype=int64),\n",
                            "  array([], dtype=int64),\n",
                            "  array([], dtype=int64)])"
                        ]
                    },
                    "execution_count": 32,
                    "metadata": {},
                    "output_type": "execute_result"
                }
            ],
            "source": [
                "loops = []\n",
                "\n",
                "for i, row in enumerate(loops_matrix):\n",
                "    loops_row = np.where(row == True)[0]\n",
                "    # if loops_row.sum() > 0:\n",
                "    #     print(f'{i}, ', end='')\n",
                "    loops.append(loops_row)\n",
                "\n",
                "len(loops), loops[200:210]"
            ]
        },
        {
            "cell_type": "markdown",
            "metadata": {},
            "source": [
                "# Load Ground Truth Poses"
            ]
        },
        {
            "cell_type": "code",
            "execution_count": 33,
            "metadata": {},
            "outputs": [
                {
                    "data": {
                        "text/plain": [
                            "('/home/saravanabalagi/cephshare/compsci/public/new_college/city_centre/ImageCollectionCoordinates.txt',\n",
                            " True)"
                        ]
                    },
                    "execution_count": 33,
                    "metadata": {},
                    "output_type": "execute_result"
                }
            ],
            "source": [
                "gt_poses_file = os.path.join(gt_dir, 'ImageCollectionCoordinates.txt')\n",
                "gt_poses_file, os.path.exists(gt_poses_file)"
            ]
        },
        {
            "cell_type": "code",
            "execution_count": 34,
            "metadata": {},
            "outputs": [
                {
                    "data": {
                        "text/html": [
                            "<div>\n",
                            "<style scoped>\n",
                            "    .dataframe tbody tr th:only-of-type {\n",
                            "        vertical-align: middle;\n",
                            "    }\n",
                            "\n",
                            "    .dataframe tbody tr th {\n",
                            "        vertical-align: top;\n",
                            "    }\n",
                            "\n",
                            "    .dataframe thead th {\n",
                            "        text-align: right;\n",
                            "    }\n",
                            "</style>\n",
                            "<table border=\"1\" class=\"dataframe\">\n",
                            "  <thead>\n",
                            "    <tr style=\"text-align: right;\">\n",
                            "      <th></th>\n",
                            "      <th></th>\n",
                            "      <th>img</th>\n",
                            "      <th>latitude</th>\n",
                            "      <th>longitude</th>\n",
                            "    </tr>\n",
                            "    <tr>\n",
                            "      <th></th>\n",
                            "      <th>img</th>\n",
                            "      <th></th>\n",
                            "      <th></th>\n",
                            "      <th></th>\n",
                            "    </tr>\n",
                            "  </thead>\n",
                            "  <tbody>\n",
                            "    <tr>\n",
                            "      <th>0</th>\n",
                            "      <th>0001.jpg</th>\n",
                            "      <td>0001.jpg</td>\n",
                            "      <td>303.864302</td>\n",
                            "      <td>-57.550852</td>\n",
                            "    </tr>\n",
                            "    <tr>\n",
                            "      <th>1</th>\n",
                            "      <th>0002.jpg</th>\n",
                            "      <td>0002.jpg</td>\n",
                            "      <td>303.057736</td>\n",
                            "      <td>-57.596078</td>\n",
                            "    </tr>\n",
                            "    <tr>\n",
                            "      <th>2</th>\n",
                            "      <th>0003.jpg</th>\n",
                            "      <td>0003.jpg</td>\n",
                            "      <td>302.223256</td>\n",
                            "      <td>-57.581016</td>\n",
                            "    </tr>\n",
                            "    <tr>\n",
                            "      <th>3</th>\n",
                            "      <th>0004.jpg</th>\n",
                            "      <td>0004.jpg</td>\n",
                            "      <td>301.449563</td>\n",
                            "      <td>-57.618403</td>\n",
                            "    </tr>\n",
                            "    <tr>\n",
                            "      <th>4</th>\n",
                            "      <th>0005.jpg</th>\n",
                            "      <td>0005.jpg</td>\n",
                            "      <td>300.541200</td>\n",
                            "      <td>-57.707595</td>\n",
                            "    </tr>\n",
                            "    <tr>\n",
                            "      <th>...</th>\n",
                            "      <th>...</th>\n",
                            "      <td>...</td>\n",
                            "      <td>...</td>\n",
                            "      <td>...</td>\n",
                            "    </tr>\n",
                            "    <tr>\n",
                            "      <th>2469</th>\n",
                            "      <th>2470.jpg</th>\n",
                            "      <td>2470.jpg</td>\n",
                            "      <td>190.059861</td>\n",
                            "      <td>-147.638236</td>\n",
                            "    </tr>\n",
                            "    <tr>\n",
                            "      <th>2470</th>\n",
                            "      <th>2471.jpg</th>\n",
                            "      <td>2471.jpg</td>\n",
                            "      <td>189.469524</td>\n",
                            "      <td>-147.432693</td>\n",
                            "    </tr>\n",
                            "    <tr>\n",
                            "      <th>2471</th>\n",
                            "      <th>2472.jpg</th>\n",
                            "      <td>2472.jpg</td>\n",
                            "      <td>188.714516</td>\n",
                            "      <td>-146.758052</td>\n",
                            "    </tr>\n",
                            "    <tr>\n",
                            "      <th>2472</th>\n",
                            "      <th>2473.jpg</th>\n",
                            "      <td>2473.jpg</td>\n",
                            "      <td>188.045171</td>\n",
                            "      <td>-146.442022</td>\n",
                            "    </tr>\n",
                            "    <tr>\n",
                            "      <th>2473</th>\n",
                            "      <th>2474.jpg</th>\n",
                            "      <td>2474.jpg</td>\n",
                            "      <td>187.156005</td>\n",
                            "      <td>-145.811933</td>\n",
                            "    </tr>\n",
                            "  </tbody>\n",
                            "</table>\n",
                            "<p>2474 rows × 3 columns</p>\n",
                            "</div>"
                        ],
                        "text/plain": [
                            "                    img    latitude   longitude\n",
                            "     img                                       \n",
                            "0    0001.jpg  0001.jpg  303.864302  -57.550852\n",
                            "1    0002.jpg  0002.jpg  303.057736  -57.596078\n",
                            "2    0003.jpg  0003.jpg  302.223256  -57.581016\n",
                            "3    0004.jpg  0004.jpg  301.449563  -57.618403\n",
                            "4    0005.jpg  0005.jpg  300.541200  -57.707595\n",
                            "...                 ...         ...         ...\n",
                            "2469 2470.jpg  2470.jpg  190.059861 -147.638236\n",
                            "2470 2471.jpg  2471.jpg  189.469524 -147.432693\n",
                            "2471 2472.jpg  2472.jpg  188.714516 -146.758052\n",
                            "2472 2473.jpg  2473.jpg  188.045171 -146.442022\n",
                            "2473 2474.jpg  2474.jpg  187.156005 -145.811933\n",
                            "\n",
                            "[2474 rows x 3 columns]"
                        ]
                    },
                    "execution_count": 34,
                    "metadata": {},
                    "output_type": "execute_result"
                }
            ],
            "source": [
                "gt = pd.read_csv(gt_poses_file, delim_whitespace=True, header=None, names=['img', 'latitude', 'longitude'])\n",
                "# gt['imgs'] = gt['imgs'].apply(lambda x: int(json.loads(x)['stereoCentre'].split('.jpg')[0]))\n",
                "# gt = gt.rename(columns={'imgs': 'img'})\n",
                "gt = gt.set_index(['img'], append=True, drop=False)\n",
                "\n",
                "gt"
            ]
        },
        {
            "cell_type": "code",
            "execution_count": 35,
            "metadata": {},
            "outputs": [
                {
                    "data": {
                        "text/html": [
                            "<div>\n",
                            "<style scoped>\n",
                            "    .dataframe tbody tr th:only-of-type {\n",
                            "        vertical-align: middle;\n",
                            "    }\n",
                            "\n",
                            "    .dataframe tbody tr th {\n",
                            "        vertical-align: top;\n",
                            "    }\n",
                            "\n",
                            "    .dataframe thead th {\n",
                            "        text-align: right;\n",
                            "    }\n",
                            "</style>\n",
                            "<table border=\"1\" class=\"dataframe\">\n",
                            "  <thead>\n",
                            "    <tr style=\"text-align: right;\">\n",
                            "      <th></th>\n",
                            "      <th></th>\n",
                            "      <th>img</th>\n",
                            "      <th>latitude</th>\n",
                            "      <th>longitude</th>\n",
                            "      <th>loops</th>\n",
                            "    </tr>\n",
                            "    <tr>\n",
                            "      <th></th>\n",
                            "      <th>img</th>\n",
                            "      <th></th>\n",
                            "      <th></th>\n",
                            "      <th></th>\n",
                            "      <th></th>\n",
                            "    </tr>\n",
                            "  </thead>\n",
                            "  <tbody>\n",
                            "    <tr>\n",
                            "      <th>0</th>\n",
                            "      <th>0001.jpg</th>\n",
                            "      <td>0001.jpg</td>\n",
                            "      <td>303.864302</td>\n",
                            "      <td>-57.550852</td>\n",
                            "      <td>[]</td>\n",
                            "    </tr>\n",
                            "    <tr>\n",
                            "      <th>1</th>\n",
                            "      <th>0002.jpg</th>\n",
                            "      <td>0002.jpg</td>\n",
                            "      <td>303.057736</td>\n",
                            "      <td>-57.596078</td>\n",
                            "      <td>[]</td>\n",
                            "    </tr>\n",
                            "    <tr>\n",
                            "      <th>2</th>\n",
                            "      <th>0003.jpg</th>\n",
                            "      <td>0003.jpg</td>\n",
                            "      <td>302.223256</td>\n",
                            "      <td>-57.581016</td>\n",
                            "      <td>[]</td>\n",
                            "    </tr>\n",
                            "    <tr>\n",
                            "      <th>3</th>\n",
                            "      <th>0004.jpg</th>\n",
                            "      <td>0004.jpg</td>\n",
                            "      <td>301.449563</td>\n",
                            "      <td>-57.618403</td>\n",
                            "      <td>[]</td>\n",
                            "    </tr>\n",
                            "    <tr>\n",
                            "      <th>4</th>\n",
                            "      <th>0005.jpg</th>\n",
                            "      <td>0005.jpg</td>\n",
                            "      <td>300.541200</td>\n",
                            "      <td>-57.707595</td>\n",
                            "      <td>[]</td>\n",
                            "    </tr>\n",
                            "    <tr>\n",
                            "      <th>...</th>\n",
                            "      <th>...</th>\n",
                            "      <td>...</td>\n",
                            "      <td>...</td>\n",
                            "      <td>...</td>\n",
                            "      <td>...</td>\n",
                            "    </tr>\n",
                            "    <tr>\n",
                            "      <th>2469</th>\n",
                            "      <th>2470.jpg</th>\n",
                            "      <td>2470.jpg</td>\n",
                            "      <td>190.059861</td>\n",
                            "      <td>-147.638236</td>\n",
                            "      <td>[252, 253, 254, 255, 256, 257, 258, 259, 260, ...</td>\n",
                            "    </tr>\n",
                            "    <tr>\n",
                            "      <th>2470</th>\n",
                            "      <th>2471.jpg</th>\n",
                            "      <td>2471.jpg</td>\n",
                            "      <td>189.469524</td>\n",
                            "      <td>-147.432693</td>\n",
                            "      <td>[251, 252, 253, 254, 255, 256, 257, 258, 259, ...</td>\n",
                            "    </tr>\n",
                            "    <tr>\n",
                            "      <th>2471</th>\n",
                            "      <th>2472.jpg</th>\n",
                            "      <td>2472.jpg</td>\n",
                            "      <td>188.714516</td>\n",
                            "      <td>-146.758052</td>\n",
                            "      <td>[250, 251, 252, 253, 254, 255, 256, 257, 258, ...</td>\n",
                            "    </tr>\n",
                            "    <tr>\n",
                            "      <th>2472</th>\n",
                            "      <th>2473.jpg</th>\n",
                            "      <td>2473.jpg</td>\n",
                            "      <td>188.045171</td>\n",
                            "      <td>-146.442022</td>\n",
                            "      <td>[249, 250, 251, 252, 253, 254, 255, 256, 257, ...</td>\n",
                            "    </tr>\n",
                            "    <tr>\n",
                            "      <th>2473</th>\n",
                            "      <th>2474.jpg</th>\n",
                            "      <td>2474.jpg</td>\n",
                            "      <td>187.156005</td>\n",
                            "      <td>-145.811933</td>\n",
                            "      <td>[248, 249, 250, 251, 252, 253, 254, 255, 256, ...</td>\n",
                            "    </tr>\n",
                            "  </tbody>\n",
                            "</table>\n",
                            "<p>2474 rows × 4 columns</p>\n",
                            "</div>"
                        ],
                        "text/plain": [
                            "                    img    latitude   longitude  \\\n",
                            "     img                                          \n",
                            "0    0001.jpg  0001.jpg  303.864302  -57.550852   \n",
                            "1    0002.jpg  0002.jpg  303.057736  -57.596078   \n",
                            "2    0003.jpg  0003.jpg  302.223256  -57.581016   \n",
                            "3    0004.jpg  0004.jpg  301.449563  -57.618403   \n",
                            "4    0005.jpg  0005.jpg  300.541200  -57.707595   \n",
                            "...                 ...         ...         ...   \n",
                            "2469 2470.jpg  2470.jpg  190.059861 -147.638236   \n",
                            "2470 2471.jpg  2471.jpg  189.469524 -147.432693   \n",
                            "2471 2472.jpg  2472.jpg  188.714516 -146.758052   \n",
                            "2472 2473.jpg  2473.jpg  188.045171 -146.442022   \n",
                            "2473 2474.jpg  2474.jpg  187.156005 -145.811933   \n",
                            "\n",
                            "                                                           loops  \n",
                            "     img                                                          \n",
                            "0    0001.jpg                                                 []  \n",
                            "1    0002.jpg                                                 []  \n",
                            "2    0003.jpg                                                 []  \n",
                            "3    0004.jpg                                                 []  \n",
                            "4    0005.jpg                                                 []  \n",
                            "...                                                          ...  \n",
                            "2469 2470.jpg  [252, 253, 254, 255, 256, 257, 258, 259, 260, ...  \n",
                            "2470 2471.jpg  [251, 252, 253, 254, 255, 256, 257, 258, 259, ...  \n",
                            "2471 2472.jpg  [250, 251, 252, 253, 254, 255, 256, 257, 258, ...  \n",
                            "2472 2473.jpg  [249, 250, 251, 252, 253, 254, 255, 256, 257, ...  \n",
                            "2473 2474.jpg  [248, 249, 250, 251, 252, 253, 254, 255, 256, ...  \n",
                            "\n",
                            "[2474 rows x 4 columns]"
                        ]
                    },
                    "execution_count": 35,
                    "metadata": {},
                    "output_type": "execute_result"
                }
            ],
            "source": [
                "gt['loops'] = loops\n",
                "gt"
            ]
        },
        {
            "cell_type": "markdown",
            "metadata": {},
            "source": [
                "## Combine consecutive rows\n",
                "\n",
                "HTmap combines image_left and image_right\n",
                "- `0201.jpg` + `0202.jpg` = `0201_0202.jpg`\n",
                "- `[9, 10, 11, 12, 13, 14, 15]` + `[10, 11, 12, 13, 14, 15, 16]`\n",
                "    - Combine `[9, 10, 11, 12, 13, 14, 15, 10, 11, 12, 13, 14, 15, 16]`\n",
                "    - Divide by 2 `[4.5 5.0, 5.5, 6.0, 6.5, 7.0, 7.5, 5.0, 5.5, 6.0, 6.5, 7.0, 7.5, 8.0]`\n",
                "    - Apply Floor `[4, 5, 5, 6, 6, 7, 7, 5, 5, 6, 6, 7, 7, 8]`\n",
                "    - Pick Unique `[4, 5, 6, 7, 8]`"
            ]
        },
        {
            "cell_type": "code",
            "execution_count": 36,
            "metadata": {},
            "outputs": [
                {
                    "name": "stdout",
                    "output_type": "stream",
                    "text": [
                        "img\n",
                        "0201.jpg    []\n",
                        "Name: loops, dtype: object img\n",
                        "0202.jpg    []\n",
                        "Name: loops, dtype: object \n",
                        "\n",
                        "[]\n",
                        "[]\n",
                        "[]\n",
                        "[]\n"
                    ]
                }
            ],
            "source": [
                "combine_idx_0 = 200\n",
                "combine_idx_1 = 201\n",
                "print(gt.loops[combine_idx_0], gt.loops[combine_idx_1], \"\\n\")\n",
                "\n",
                "combine_loops_eg = np.append(loops[combine_idx_0], loops[combine_idx_1])\n",
                "print(combine_loops_eg)\n",
                "print(combine_loops_eg / 2)\n",
                "print(np.array(combine_loops_eg / 2, dtype=int))\n",
                "print(np.unique(np.array(combine_loops_eg / 2, dtype=int)))"
            ]
        },
        {
            "cell_type": "code",
            "execution_count": 37,
            "metadata": {},
            "outputs": [
                {
                    "data": {
                        "text/plain": [
                            "(1237,\n",
                            " [['0201_0202.jpg', array([], dtype=int64)],\n",
                            "  ['0203_0204.jpg', array([], dtype=int64)],\n",
                            "  ['0205_0206.jpg', array([], dtype=int64)],\n",
                            "  ['0207_0208.jpg', array([], dtype=int64)],\n",
                            "  ['0209_0210.jpg', array([], dtype=int64)]])"
                        ]
                    },
                    "execution_count": 37,
                    "metadata": {},
                    "output_type": "execute_result"
                }
            ],
            "source": [
                "gt_values = gt.values\n",
                "gt_combined_values = []\n",
                "for i in range(len(gt_values)):\n",
                "    if i % 2 == 1: continue\n",
                "    row_current = gt_values[i]\n",
                "    row_next = gt_values[i + 1]\n",
                "    img_combined = f'{os.path.splitext(row_current[0])[0]}_{row_next[0]}'\n",
                "    loops_combined = np.append(row_current[3], row_next[3])\n",
                "    loops_combined = np.array(loops_combined / 2, dtype=int)\n",
                "    loops_combined = np.unique(loops_combined)\n",
                "    gt_combined_values.append([img_combined, loops_combined])\n",
                "\n",
                "len(gt_combined_values), gt_combined_values[100:105]"
            ]
        },
        {
            "cell_type": "code",
            "execution_count": 38,
            "metadata": {},
            "outputs": [
                {
                    "data": {
                        "text/html": [
                            "<div>\n",
                            "<style scoped>\n",
                            "    .dataframe tbody tr th:only-of-type {\n",
                            "        vertical-align: middle;\n",
                            "    }\n",
                            "\n",
                            "    .dataframe tbody tr th {\n",
                            "        vertical-align: top;\n",
                            "    }\n",
                            "\n",
                            "    .dataframe thead th {\n",
                            "        text-align: right;\n",
                            "    }\n",
                            "</style>\n",
                            "<table border=\"1\" class=\"dataframe\">\n",
                            "  <thead>\n",
                            "    <tr style=\"text-align: right;\">\n",
                            "      <th></th>\n",
                            "      <th>img</th>\n",
                            "      <th>loops</th>\n",
                            "    </tr>\n",
                            "  </thead>\n",
                            "  <tbody>\n",
                            "    <tr>\n",
                            "      <th>0</th>\n",
                            "      <td>0001_0002.jpg</td>\n",
                            "      <td>[]</td>\n",
                            "    </tr>\n",
                            "    <tr>\n",
                            "      <th>1</th>\n",
                            "      <td>0003_0004.jpg</td>\n",
                            "      <td>[]</td>\n",
                            "    </tr>\n",
                            "    <tr>\n",
                            "      <th>2</th>\n",
                            "      <td>0005_0006.jpg</td>\n",
                            "      <td>[]</td>\n",
                            "    </tr>\n",
                            "    <tr>\n",
                            "      <th>3</th>\n",
                            "      <td>0007_0008.jpg</td>\n",
                            "      <td>[]</td>\n",
                            "    </tr>\n",
                            "    <tr>\n",
                            "      <th>4</th>\n",
                            "      <td>0009_0010.jpg</td>\n",
                            "      <td>[]</td>\n",
                            "    </tr>\n",
                            "    <tr>\n",
                            "      <th>...</th>\n",
                            "      <td>...</td>\n",
                            "      <td>...</td>\n",
                            "    </tr>\n",
                            "    <tr>\n",
                            "      <th>1232</th>\n",
                            "      <td>2465_2466.jpg</td>\n",
                            "      <td>[128, 129, 130, 131, 132, 133, 134, 135, 136, ...</td>\n",
                            "    </tr>\n",
                            "    <tr>\n",
                            "      <th>1233</th>\n",
                            "      <td>2467_2468.jpg</td>\n",
                            "      <td>[127, 128, 129, 130, 131, 132, 133, 134, 135, ...</td>\n",
                            "    </tr>\n",
                            "    <tr>\n",
                            "      <th>1234</th>\n",
                            "      <td>2469_2470.jpg</td>\n",
                            "      <td>[126, 127, 128, 129, 130, 131, 132, 133, 134, ...</td>\n",
                            "    </tr>\n",
                            "    <tr>\n",
                            "      <th>1235</th>\n",
                            "      <td>2471_2472.jpg</td>\n",
                            "      <td>[125, 126, 127, 128, 129, 130, 131, 132, 133, ...</td>\n",
                            "    </tr>\n",
                            "    <tr>\n",
                            "      <th>1236</th>\n",
                            "      <td>2473_2474.jpg</td>\n",
                            "      <td>[124, 125, 126, 127, 128, 129, 130, 131, 132, ...</td>\n",
                            "    </tr>\n",
                            "  </tbody>\n",
                            "</table>\n",
                            "<p>1237 rows × 2 columns</p>\n",
                            "</div>"
                        ],
                        "text/plain": [
                            "                img                                              loops\n",
                            "0     0001_0002.jpg                                                 []\n",
                            "1     0003_0004.jpg                                                 []\n",
                            "2     0005_0006.jpg                                                 []\n",
                            "3     0007_0008.jpg                                                 []\n",
                            "4     0009_0010.jpg                                                 []\n",
                            "...             ...                                                ...\n",
                            "1232  2465_2466.jpg  [128, 129, 130, 131, 132, 133, 134, 135, 136, ...\n",
                            "1233  2467_2468.jpg  [127, 128, 129, 130, 131, 132, 133, 134, 135, ...\n",
                            "1234  2469_2470.jpg  [126, 127, 128, 129, 130, 131, 132, 133, 134, ...\n",
                            "1235  2471_2472.jpg  [125, 126, 127, 128, 129, 130, 131, 132, 133, ...\n",
                            "1236  2473_2474.jpg  [124, 125, 126, 127, 128, 129, 130, 131, 132, ...\n",
                            "\n",
                            "[1237 rows x 2 columns]"
                        ]
                    },
                    "execution_count": 38,
                    "metadata": {},
                    "output_type": "execute_result"
                }
            ],
            "source": [
                "gt_combined = pd.DataFrame(gt_combined_values, columns=['img', 'loops'])\n",
                "gt_combined"
            ]
        },
        {
            "cell_type": "markdown",
            "metadata": {},
            "source": [
                "# Write GT Loops to file"
            ]
        },
        {
            "cell_type": "markdown",
            "metadata": {},
            "source": [
                "## Write to CSV\n",
                "\n",
                "- Add comments about representation\n",
                "- Add settings used\n",
                "- Add headers\n",
                "\n",
                "### Use space saving representation\n",
                "\n",
                "- Long lists occupy a lot of space when each element is serialized.\n",
                "- If the list is known to have range of values, it's better to use a list of ranges representation\n",
                "\n",
                "Example: \n",
                "```\n",
                "[[0, 1, 2, 3, 4], [7, 8, 9], [11]]\n",
                "```\n",
                "can be represented as list of ranges\n",
                "```\n",
                "0:4;7:9;11\n",
                "```"
            ]
        },
        {
            "cell_type": "code",
            "execution_count": 39,
            "metadata": {},
            "outputs": [],
            "source": [
                "from utils import list_minify\n",
                "\n",
                "loops_file = f'{dataset_name}/loops.csv'\n",
                "with open(loops_file, 'w') as f:\n",
                "    comment = f\"\"\"\\\n",
                "# CSV Comma Separated; Lists Semicolon Separated; Ranges Colon Separated Both Inclusive\n",
                "# Ground Truth Loop Closure File, generated from {gt_poses_file}\n",
                "# Combined 0001.jpg and 0002.jpg for HTMap to 0001_0002.jpg\n",
                "# Combined their corresponding loops [10 11 12 13 14 15 16] and [11 12 13 14 15 16 17] to [5, 6, 7, 8]\n",
                "# \n",
                "img,index,loops\n",
                "\"\"\"\n",
                "    print(comment, end=\"\", file=f)\n",
                "    for i, (t, loops_row) in enumerate(zip(gt_combined.img.values, gt_combined.loops.values)):\n",
                "        loops_row_str = list_minify(loops_row)\n",
                "        print(f'{t},{i},{loops_row_str}', file=f)"
            ]
        }
    ],
    "metadata": {
        "interpreter": {
            "hash": "a82022a508ae1bd4eafbe451a6bbccd7b46388f57a0250f5ebc9db6d8328487d"
        },
        "kernelspec": {
            "display_name": "Python 3.8.10 64-bit ('.venv': venv)",
            "name": "python3"
        },
        "language_info": {
            "codemirror_mode": {
                "name": "ipython",
                "version": 3
            },
            "file_extension": ".py",
            "mimetype": "text/x-python",
            "name": "python",
            "nbconvert_exporter": "python",
            "pygments_lexer": "ipython3",
            "version": "3.8.18"
        },
        "orig_nbformat": 4
    },
    "nbformat": 4,
    "nbformat_minor": 2
}
