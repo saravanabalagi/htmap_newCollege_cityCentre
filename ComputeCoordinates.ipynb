{
 "cells": [
  {
   "cell_type": "code",
   "execution_count": 20,
   "metadata": {},
   "outputs": [],
   "source": [
    "import pandas as pd\n",
    "import numpy as np\n",
    "import os\n",
    "import glob\n",
    "from tqdm.auto import tqdm\n",
    "from pathlib import Path"
   ]
  },
  {
   "cell_type": "code",
   "execution_count": 21,
   "metadata": {},
   "outputs": [
    {
     "data": {
      "text/plain": [
       "'city_centre'"
      ]
     },
     "execution_count": 21,
     "metadata": {},
     "output_type": "execute_result"
    }
   ],
   "source": [
    "dataset_names = ['new_college', 'city_centre']\n",
    "dataset_name = dataset_names[1]\n",
    "dataset_name"
   ]
  },
  {
   "cell_type": "code",
   "execution_count": 22,
   "metadata": {},
   "outputs": [
    {
     "data": {
      "text/plain": [
       "('/home/saravanabalagi/cephshare/compsci/public/new_college/city_centre/ImageCollectionCoordinates.txt',\n",
       " True)"
      ]
     },
     "execution_count": 22,
     "metadata": {},
     "output_type": "execute_result"
    }
   ],
   "source": [
    "cephshare = Path('~/cephshare').expanduser()\n",
    "gt_file = f'{cephshare}/compsci/public/new_college/{dataset_name}/ImageCollectionCoordinates.txt'\n",
    "gt_file, os.path.exists(gt_file)"
   ]
  },
  {
   "cell_type": "code",
   "execution_count": 23,
   "metadata": {},
   "outputs": [
    {
     "data": {
      "text/html": [
       "<div>\n",
       "<style scoped>\n",
       "    .dataframe tbody tr th:only-of-type {\n",
       "        vertical-align: middle;\n",
       "    }\n",
       "\n",
       "    .dataframe tbody tr th {\n",
       "        vertical-align: top;\n",
       "    }\n",
       "\n",
       "    .dataframe thead th {\n",
       "        text-align: right;\n",
       "    }\n",
       "</style>\n",
       "<table border=\"1\" class=\"dataframe\">\n",
       "  <thead>\n",
       "    <tr style=\"text-align: right;\">\n",
       "      <th></th>\n",
       "      <th>img</th>\n",
       "      <th>x</th>\n",
       "      <th>y</th>\n",
       "    </tr>\n",
       "  </thead>\n",
       "  <tbody>\n",
       "    <tr>\n",
       "      <th>0</th>\n",
       "      <td>0001.jpg</td>\n",
       "      <td>303.864302</td>\n",
       "      <td>-57.550852</td>\n",
       "    </tr>\n",
       "    <tr>\n",
       "      <th>1</th>\n",
       "      <td>0002.jpg</td>\n",
       "      <td>303.057736</td>\n",
       "      <td>-57.596078</td>\n",
       "    </tr>\n",
       "    <tr>\n",
       "      <th>2</th>\n",
       "      <td>0003.jpg</td>\n",
       "      <td>302.223256</td>\n",
       "      <td>-57.581016</td>\n",
       "    </tr>\n",
       "    <tr>\n",
       "      <th>3</th>\n",
       "      <td>0004.jpg</td>\n",
       "      <td>301.449563</td>\n",
       "      <td>-57.618403</td>\n",
       "    </tr>\n",
       "    <tr>\n",
       "      <th>4</th>\n",
       "      <td>0005.jpg</td>\n",
       "      <td>300.541200</td>\n",
       "      <td>-57.707595</td>\n",
       "    </tr>\n",
       "    <tr>\n",
       "      <th>...</th>\n",
       "      <td>...</td>\n",
       "      <td>...</td>\n",
       "      <td>...</td>\n",
       "    </tr>\n",
       "    <tr>\n",
       "      <th>2469</th>\n",
       "      <td>2470.jpg</td>\n",
       "      <td>190.059861</td>\n",
       "      <td>-147.638236</td>\n",
       "    </tr>\n",
       "    <tr>\n",
       "      <th>2470</th>\n",
       "      <td>2471.jpg</td>\n",
       "      <td>189.469524</td>\n",
       "      <td>-147.432693</td>\n",
       "    </tr>\n",
       "    <tr>\n",
       "      <th>2471</th>\n",
       "      <td>2472.jpg</td>\n",
       "      <td>188.714516</td>\n",
       "      <td>-146.758052</td>\n",
       "    </tr>\n",
       "    <tr>\n",
       "      <th>2472</th>\n",
       "      <td>2473.jpg</td>\n",
       "      <td>188.045171</td>\n",
       "      <td>-146.442022</td>\n",
       "    </tr>\n",
       "    <tr>\n",
       "      <th>2473</th>\n",
       "      <td>2474.jpg</td>\n",
       "      <td>187.156005</td>\n",
       "      <td>-145.811933</td>\n",
       "    </tr>\n",
       "  </tbody>\n",
       "</table>\n",
       "<p>2474 rows × 3 columns</p>\n",
       "</div>"
      ],
      "text/plain": [
       "           img           x           y\n",
       "0     0001.jpg  303.864302  -57.550852\n",
       "1     0002.jpg  303.057736  -57.596078\n",
       "2     0003.jpg  302.223256  -57.581016\n",
       "3     0004.jpg  301.449563  -57.618403\n",
       "4     0005.jpg  300.541200  -57.707595\n",
       "...        ...         ...         ...\n",
       "2469  2470.jpg  190.059861 -147.638236\n",
       "2470  2471.jpg  189.469524 -147.432693\n",
       "2471  2472.jpg  188.714516 -146.758052\n",
       "2472  2473.jpg  188.045171 -146.442022\n",
       "2473  2474.jpg  187.156005 -145.811933\n",
       "\n",
       "[2474 rows x 3 columns]"
      ]
     },
     "execution_count": 23,
     "metadata": {},
     "output_type": "execute_result"
    }
   ],
   "source": [
    "gt = pd.read_csv(gt_file, delim_whitespace=True, header=None, names=['img', 'x', 'y'])\n",
    "gt"
   ]
  },
  {
   "cell_type": "code",
   "execution_count": 24,
   "metadata": {},
   "outputs": [
    {
     "data": {
      "application/vnd.jupyter.widget-view+json": {
       "model_id": "eb39301cb4d84bfbbe49b5ecc234e314",
       "version_major": 2,
       "version_minor": 0
      },
      "text/plain": [
       "  0%|          | 0/2474 [00:00<?, ?it/s]"
      ]
     },
     "metadata": {},
     "output_type": "display_data"
    },
    {
     "data": {
      "text/html": [
       "<div>\n",
       "<style scoped>\n",
       "    .dataframe tbody tr th:only-of-type {\n",
       "        vertical-align: middle;\n",
       "    }\n",
       "\n",
       "    .dataframe tbody tr th {\n",
       "        vertical-align: top;\n",
       "    }\n",
       "\n",
       "    .dataframe thead th {\n",
       "        text-align: right;\n",
       "    }\n",
       "</style>\n",
       "<table border=\"1\" class=\"dataframe\">\n",
       "  <thead>\n",
       "    <tr style=\"text-align: right;\">\n",
       "      <th></th>\n",
       "      <th>img</th>\n",
       "      <th>x</th>\n",
       "      <th>y</th>\n",
       "    </tr>\n",
       "  </thead>\n",
       "  <tbody>\n",
       "    <tr>\n",
       "      <th>0</th>\n",
       "      <td>0001_0002.jpg</td>\n",
       "      <td>303.461019</td>\n",
       "      <td>-57.573465</td>\n",
       "    </tr>\n",
       "    <tr>\n",
       "      <th>1</th>\n",
       "      <td>0003_0004.jpg</td>\n",
       "      <td>301.836410</td>\n",
       "      <td>-57.599710</td>\n",
       "    </tr>\n",
       "    <tr>\n",
       "      <th>2</th>\n",
       "      <td>0005_0006.jpg</td>\n",
       "      <td>300.140829</td>\n",
       "      <td>-57.790520</td>\n",
       "    </tr>\n",
       "    <tr>\n",
       "      <th>3</th>\n",
       "      <td>0007_0008.jpg</td>\n",
       "      <td>298.733992</td>\n",
       "      <td>-58.184704</td>\n",
       "    </tr>\n",
       "    <tr>\n",
       "      <th>4</th>\n",
       "      <td>0009_0010.jpg</td>\n",
       "      <td>297.224668</td>\n",
       "      <td>-58.586052</td>\n",
       "    </tr>\n",
       "    <tr>\n",
       "      <th>...</th>\n",
       "      <td>...</td>\n",
       "      <td>...</td>\n",
       "      <td>...</td>\n",
       "    </tr>\n",
       "    <tr>\n",
       "      <th>1232</th>\n",
       "      <td>2465_2466.jpg</td>\n",
       "      <td>192.366972</td>\n",
       "      <td>-150.259996</td>\n",
       "    </tr>\n",
       "    <tr>\n",
       "      <th>1233</th>\n",
       "      <td>2467_2468.jpg</td>\n",
       "      <td>191.312079</td>\n",
       "      <td>-149.241598</td>\n",
       "    </tr>\n",
       "    <tr>\n",
       "      <th>1234</th>\n",
       "      <td>2469_2470.jpg</td>\n",
       "      <td>190.239403</td>\n",
       "      <td>-148.007366</td>\n",
       "    </tr>\n",
       "    <tr>\n",
       "      <th>1235</th>\n",
       "      <td>2471_2472.jpg</td>\n",
       "      <td>189.092020</td>\n",
       "      <td>-147.095372</td>\n",
       "    </tr>\n",
       "    <tr>\n",
       "      <th>1236</th>\n",
       "      <td>2473_2474.jpg</td>\n",
       "      <td>187.600588</td>\n",
       "      <td>-146.126978</td>\n",
       "    </tr>\n",
       "  </tbody>\n",
       "</table>\n",
       "<p>1237 rows × 3 columns</p>\n",
       "</div>"
      ],
      "text/plain": [
       "                img           x           y\n",
       "0     0001_0002.jpg  303.461019  -57.573465\n",
       "1     0003_0004.jpg  301.836410  -57.599710\n",
       "2     0005_0006.jpg  300.140829  -57.790520\n",
       "3     0007_0008.jpg  298.733992  -58.184704\n",
       "4     0009_0010.jpg  297.224668  -58.586052\n",
       "...             ...         ...         ...\n",
       "1232  2465_2466.jpg  192.366972 -150.259996\n",
       "1233  2467_2468.jpg  191.312079 -149.241598\n",
       "1234  2469_2470.jpg  190.239403 -148.007366\n",
       "1235  2471_2472.jpg  189.092020 -147.095372\n",
       "1236  2473_2474.jpg  187.600588 -146.126978\n",
       "\n",
       "[1237 rows x 3 columns]"
      ]
     },
     "execution_count": 24,
     "metadata": {},
     "output_type": "execute_result"
    }
   ],
   "source": [
    "gt_new = []\n",
    "for i in tqdm(range(len(gt))):\n",
    "    if i % 2 == 1: continue\n",
    "    row = {}\n",
    "    row['img'] = f'{os.path.splitext(gt.iloc[i].img)[0]}_{gt.iloc[i+1].img}'\n",
    "    row['x'] = np.round(np.mean([gt.iloc[i].x, gt.iloc[i+1].x]), 6)\n",
    "    row['y'] = np.round(np.mean([gt.iloc[i].y, gt.iloc[i+1].y]), 6)\n",
    "    gt_new.append(row)\n",
    "\n",
    "gt_new = pd.DataFrame(gt_new)\n",
    "gt_new"
   ]
  },
  {
   "cell_type": "code",
   "execution_count": 25,
   "metadata": {},
   "outputs": [],
   "source": [
    "gt_new.to_csv(f'{dataset_name}/ImageCollectionCoordinates.txt', index=None, sep=' ', header=None)"
   ]
  }
 ],
 "metadata": {
  "interpreter": {
   "hash": "0e120a97b84b5424c2142b84d8b9491807d97b309c180a1578027d75300bc9b3"
  },
  "kernelspec": {
   "display_name": "Python 3.8.10 64-bit ('.venv': poetry)",
   "language": "python",
   "name": "python3"
  },
  "language_info": {
   "codemirror_mode": {
    "name": "ipython",
    "version": 3
   },
   "file_extension": ".py",
   "mimetype": "text/x-python",
   "name": "python",
   "nbconvert_exporter": "python",
   "pygments_lexer": "ipython3",
   "version": "3.8.18"
  },
  "orig_nbformat": 4
 },
 "nbformat": 4,
 "nbformat_minor": 2
}
