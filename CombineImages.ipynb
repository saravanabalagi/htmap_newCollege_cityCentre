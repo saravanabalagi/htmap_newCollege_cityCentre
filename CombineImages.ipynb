{
 "cells": [
  {
   "cell_type": "code",
   "execution_count": 2,
   "metadata": {},
   "outputs": [],
   "source": [
    "import os\n",
    "import cv2\n",
    "import numpy as np\n",
    "\n",
    "from tqdm.auto import tqdm\n",
    "from pathlib import Path"
   ]
  },
  {
   "cell_type": "code",
   "execution_count": 3,
   "metadata": {},
   "outputs": [
    {
     "data": {
      "text/plain": [
       "'new_college'"
      ]
     },
     "execution_count": 3,
     "metadata": {},
     "output_type": "execute_result"
    }
   ],
   "source": [
    "dataset_names = ['new_college', 'city_centre']\n",
    "dataset_name = dataset_names[0]\n",
    "dataset_name"
   ]
  },
  {
   "cell_type": "code",
   "execution_count": null,
   "metadata": {},
   "outputs": [],
   "source": [
    "cephshare = Path('~/cephshare').expanduser()\n",
    "root_dir = f\"{cephshare}/compsci/public/new_college/{dataset_name}/Images\"\n",
    "output_dir = f\"{dataset_name}/Images\"\n",
    "os.makedirs(output_dir, exist_ok=True)"
   ]
  },
  {
   "cell_type": "code",
   "execution_count": null,
   "metadata": {},
   "outputs": [],
   "source": [
    "files = os.listdir(root_dir)\n",
    "\n",
    "for i in tqdm(range(0, len(files), 2)):\n",
    "    if i+1 >= len(files):\n",
    "        break\n",
    "    img1 = cv2.imread(os.path.join(root_dir, files[i]))\n",
    "    img2 = cv2.imread(os.path.join(root_dir, files[i+1]))\n",
    "    combined = np.concatenate((img2, img1), axis=1)\n",
    "    combined_filename = f'{os.path.splitext(files[i])[0]}_{os.path.splitext(files[i+1])[0]}.jpg'\n",
    "    cv2.imwrite(os.path.join(output_dir, combined_filename), combined)"
   ]
  }
 ],
 "metadata": {
  "kernelspec": {
   "display_name": "dev",
   "language": "python",
   "name": "python3"
  },
  "language_info": {
   "codemirror_mode": {
    "name": "ipython",
    "version": 3
   },
   "file_extension": ".py",
   "mimetype": "text/x-python",
   "name": "python",
   "nbconvert_exporter": "python",
   "pygments_lexer": "ipython3",
   "version": "3.8.18"
  },
  "orig_nbformat": 4
 },
 "nbformat": 4,
 "nbformat_minor": 2
}
